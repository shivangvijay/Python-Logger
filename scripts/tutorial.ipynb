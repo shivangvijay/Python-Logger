{
 "cells": [
  {
   "cell_type": "markdown",
   "metadata": {},
   "source": [
    "# Example To Use Python Logger \n",
    "\n",
    "Python Logger is very easy to use! "
   ]
  },
  {
   "cell_type": "code",
   "execution_count": 2,
   "metadata": {},
   "outputs": [
    {
     "name": "stdout",
     "output_type": "stream",
     "text": [
      "\u001b[0mm2023-03-07 18:28:02.630815 [DEBUG] String 21 98.8776768787 48 True False \n",
      "\u001b[0mm2023-03-07 18:28:02.631499 [ERROR] String 21 98.8776768787 48 True False \n",
      "\u001b[0mm2023-03-07 18:28:02.631745 [INFO] String 21 98.8776768787 48 True False \n",
      "\u001b[0mm2023-03-07 18:28:02.632067 [TRACE] String 21 98.8776768787 48 True False \n",
      "\u001b[0mm2023-03-07 18:28:02.632403 [DEBUG] String 21 98.8776768787 48 True False \n",
      "\u001b[0mm2023-03-07 18:28:02.632546 [ERROR] String 21 98.8776768787 48 True False \n",
      "\u001b[0mm2023-03-07 18:28:02.632662 [INFO] String 21 98.8776768787 48 True False \n",
      "\u001b[0mm2023-03-07 18:28:02.632760 [TRACE] String 21 98.8776768787 48 True False \n"
     ]
    }
   ],
   "source": [
    "from Logger import Logger\n",
    "\n",
    "inst = Logger()   # or you an use Logger.get_instance() for first time also\n",
    "\n",
    "inst.debug(\"String\", 21, 98.8776768787, 48, True, False)\n",
    "inst.error(\"String\", 21, 98.8776768787, 48, True, False)\n",
    "inst.info(\"String\", 21, 98.8776768787, 48, True, False)\n",
    "inst.trace(\"String\", 21, 98.8776768787, 48, True, False)\n",
    "\n",
    "\n",
    "sameInst = Logger.get_instance()\n",
    "\n",
    "\n",
    "sameInst.debug(\"String\", 21, 98.8776768787, 48, True, False)\n",
    "sameInst.error(\"String\", 21, 98.8776768787, 48, True, False)\n",
    "sameInst.info(\"String\", 21, 98.8776768787, 48, True, False)\n",
    "sameInst.trace(\"String\", 21, 98.8776768787, 48, True, False)"
   ]
  },
  {
   "cell_type": "markdown",
   "metadata": {},
   "source": [
    "The log file generated in the \"logs\" folder.\n",
    "\n",
    "Note:- In console, output comes with different color code of each log level. It is not observable in ipynb files."
   ]
  },
  {
   "cell_type": "markdown",
   "metadata": {},
   "source": [
    "![alt text]()"
   ]
  }
 ],
 "metadata": {
  "kernelspec": {
   "display_name": "Python 3.8.0 64-bit",
   "language": "python",
   "name": "python3"
  },
  "language_info": {
   "codemirror_mode": {
    "name": "ipython",
    "version": 3
   },
   "file_extension": ".py",
   "mimetype": "text/x-python",
   "name": "python",
   "nbconvert_exporter": "python",
   "pygments_lexer": "ipython3",
   "version": "3.8.0"
  },
  "orig_nbformat": 4,
  "vscode": {
   "interpreter": {
    "hash": "aee8b7b246df8f9039afb4144a1f6fd8d2ca17a180786b69acc140d282b71a49"
   }
  }
 },
 "nbformat": 4,
 "nbformat_minor": 2
}
